{
  "cells": [
    {
      "cell_type": "code",
      "execution_count": 1,
      "metadata": {
        "id": "OtIu4yd2Y0vN",
        "colab": {
          "base_uri": "https://localhost:8080/"
        },
        "outputId": "a4833dff-ddbe-4254-ffce-141424100fbd"
      },
      "outputs": [
        {
          "output_type": "stream",
          "name": "stdout",
          "text": [
            "Mounted at /content/gdrive/\n"
          ]
        },
        {
          "output_type": "execute_result",
          "data": {
            "text/plain": [
              "['112_student.csv',\n",
              " 'edu_sample_data.csv',\n",
              " '112_students_tf.csv',\n",
              " 'products.csv',\n",
              " '111_ab111_Country.csv',\n",
              " '111_ab111_School.csv',\n",
              " 'TaipeiSansTCBeta-Regular.ttf',\n",
              " 'Ch1-5.zip (Unzipped Files)',\n",
              " 'test2.txt',\n",
              " '111_ab111_Country.gsheet',\n",
              " 'chromedriver.exe',\n",
              " 'LICENSE.chromedriver',\n",
              " 'VideoFormat.csv',\n",
              " 'requests_ptt.csv',\n",
              " 'requests_ptt.gsheet']"
            ]
          },
          "metadata": {},
          "execution_count": 1
        }
      ],
      "source": [
        "# Connetced yourself Cloud Storage\n",
        "from google.colab import drive\n",
        "drive.mount('/content/gdrive/', force_remount=True)\n",
        "\n",
        "import os\n",
        "os.chdir(\"/content/gdrive/MyDrive/112-2_LATIA\")\n",
        "os.listdir()"
      ]
    },
    {
      "cell_type": "code",
      "execution_count": 2,
      "metadata": {
        "colab": {
          "base_uri": "https://localhost:8080/"
        },
        "id": "TOLHfS282QLG",
        "outputId": "4d91c007-8f91-40ad-ee31-152b74710f81"
      },
      "outputs": [
        {
          "output_type": "stream",
          "name": "stdout",
          "text": [
            "Mounted at /content/drive\n"
          ]
        }
      ],
      "source": [
        "from google.colab import drive\n",
        "drive.mount('/content/drive')"
      ]
    },
    {
      "cell_type": "code",
      "execution_count": 8,
      "metadata": {
        "id": "wXanyIjO74SB",
        "colab": {
          "base_uri": "https://localhost:8080/"
        },
        "outputId": "b0df0636-dbf3-49b3-a72c-68b22dac7b15"
      },
      "outputs": [
        {
          "output_type": "stream",
          "name": "stdout",
          "text": [
            "----- Article 1 -----\n",
            "Title: [新聞] 雙職籃10隊違反退票機制 T1、PLG：皆已\n",
            "Author: s66449\n",
            "Date: 5/03\n",
            "Article URL: /bbs/basketballTW/M.1714666774.A.10B.html\n",
            "----- Article 2 -----\n",
            "Title: [新聞] 涉SBL假球簽賭案！唯一在押柯旻豪不滿\n",
            "Author: s66449\n",
            "Date: 5/03\n",
            "Article URL: /bbs/basketballTW/M.1714667076.A.EE6.html\n",
            "----- Article 3 -----\n",
            "Title: [討論] 歷屆選秀狀元 合併跟交流前先聯合選秀?\n",
            "Author: jackman1002\n",
            "Date: 5/03\n",
            "Article URL: /bbs/basketballTW/M.1714679502.A.DB3.html\n",
            "----- Article 4 -----\n",
            "Title: [討論] plg官方IG封鎖球迷 已解封\n",
            "Author: zhahu\n",
            "Date: 5/03\n",
            "Article URL: /bbs/basketballTW/M.1714695218.A.E8A.html\n",
            "----- Article 5 -----\n",
            "Title: [新聞] 季後賽觀測站》T1季後賽明開火 特攻劍指\n",
            "Author: access4096\n",
            "Date: 5/03\n",
            "Article URL: /bbs/basketballTW/M.1714713205.A.8F3.html\n",
            "----- Article 6 -----\n",
            "Title: [討論] P+處理的速度可一致嗎？負面反應特別慢\n",
            "Author: usnavyseal\n",
            "Date: 5/03\n",
            "Article URL: /bbs/basketballTW/M.1714717577.A.59C.html\n",
            "----- Article 7 -----\n",
            "Title: [情報] 23-24 Week25 本週最佳球員\n",
            "Author: j112233446\n",
            "Date: 5/03\n",
            "Article URL: /bbs/basketballTW/M.1714722271.A.DDB.html\n",
            "----- Article 8 -----\n",
            "Title: [公告] 台籃板板規 2.2\n",
            "Author: NanashiMumei\n",
            "Date: 2/08\n",
            "Article URL: /bbs/basketballTW/M.1675789665.A.6AB.html\n",
            "----- Article 9 -----\n",
            "Title: [公告] 季後賽條款\n",
            "Author: ZIDENS\n",
            "Date: 4/16\n",
            "Article URL: /bbs/basketballTW/M.1713275979.A.DAF.html\n",
            "----- Article 10 -----\n",
            "Title: [情報] 2023-24 PLG/T1/SBL/WSBL 賽程表\n",
            "Author: nepholi\n",
            "Date: 10/19\n",
            "Article URL: /bbs/basketballTW/M.1697706060.A.ACD.html\n",
            "----- Article 11 -----\n",
            "Title: [公告] 票務區 (四月) (徵售請勿黃牛行為)\n",
            "Author: NanashiMumei\n",
            "Date: 4/06\n",
            "Article URL: /bbs/basketballTW/M.1712333021.A.72F.html\n",
            "[{'Title': '[新聞] 雙職籃10隊違反退票機制 T1、PLG：皆已', 'Author': 's66449', 'Date': '5/03', 'Article URL': '/bbs/basketballTW/M.1714666774.A.10B.html'}, {'Title': '[新聞] 涉SBL假球簽賭案！唯一在押柯旻豪不滿', 'Author': 's66449', 'Date': '5/03', 'Article URL': '/bbs/basketballTW/M.1714667076.A.EE6.html'}, {'Title': '[討論] 歷屆選秀狀元 合併跟交流前先聯合選秀?', 'Author': 'jackman1002', 'Date': '5/03', 'Article URL': '/bbs/basketballTW/M.1714679502.A.DB3.html'}, {'Title': '[討論] plg官方IG封鎖球迷 已解封', 'Author': 'zhahu', 'Date': '5/03', 'Article URL': '/bbs/basketballTW/M.1714695218.A.E8A.html'}, {'Title': '[新聞] 季後賽觀測站》T1季後賽明開火 特攻劍指', 'Author': 'access4096', 'Date': '5/03', 'Article URL': '/bbs/basketballTW/M.1714713205.A.8F3.html'}, {'Title': '[討論] P+處理的速度可一致嗎？負面反應特別慢', 'Author': 'usnavyseal', 'Date': '5/03', 'Article URL': '/bbs/basketballTW/M.1714717577.A.59C.html'}, {'Title': '[情報] 23-24 Week25 本週最佳球員', 'Author': 'j112233446', 'Date': '5/03', 'Article URL': '/bbs/basketballTW/M.1714722271.A.DDB.html'}, {'Title': '[公告] 台籃板板規 2.2', 'Author': 'NanashiMumei', 'Date': '2/08', 'Article URL': '/bbs/basketballTW/M.1675789665.A.6AB.html'}, {'Title': '[公告] 季後賽條款', 'Author': 'ZIDENS', 'Date': '4/16', 'Article URL': '/bbs/basketballTW/M.1713275979.A.DAF.html'}, {'Title': '[情報] 2023-24 PLG/T1/SBL/WSBL 賽程表', 'Author': 'nepholi', 'Date': '10/19', 'Article URL': '/bbs/basketballTW/M.1697706060.A.ACD.html'}, {'Title': '[公告] 票務區 (四月) (徵售請勿黃牛行為)', 'Author': 'NanashiMumei', 'Date': '4/06', 'Article URL': '/bbs/basketballTW/M.1712333021.A.72F.html'}]\n"
          ]
        }
      ],
      "source": [
        "#導入可能需要的函式\n",
        "import requests\n",
        "import pandas as pd\n",
        "from bs4 import BeautifulSoup\n",
        "import csv\n",
        "\n",
        "\n",
        "\n",
        "if __name__ == '__main__':\n",
        "    # 設定目標網址,PTT籃球版\n",
        "    url = \"https://www.ptt.cc/bbs/basketballTW/index.html\"\n",
        "    # 發送 HTTP 請求,貼上User Agent避免存取遭拒絕\n",
        "    headers = {\n",
        "        'User-Agent': 'Mozilla/5.0 (Windows NT 10.0; Win64; x64) AppleWebKit/537.36 (KHTML, like Gecko) Chrome/124.0.0.0 Safari/537.36'\n",
        "    }\n",
        "    response = requests.get(url,headers=headers)\n",
        "    response.encoding = 'utf-8'  # 正確編碼\n",
        "\n",
        "\n",
        "    # 解析網頁內容\n",
        "    soup = BeautifulSoup(response.text, 'html.parser')\n",
        "\n",
        "    # 找到所有 'r-ent' class 的 div 標籤\n",
        "    items = soup.find_all('div', class_='r-ent')\n",
        "    index = 1\n",
        "    data = []\n",
        "\n",
        "    # 爬取需要的資訊:文章名、作者、日期、網址\n",
        "for item in items:\n",
        "    try:\n",
        "        title_tag = item.find('div', class_='title').find('a') #在div下解析出title\n",
        "        title = title_tag.get_text(strip=True) #取出字串\n",
        "        author = item.find('div', class_='author').text.strip() #在div下解析出author\n",
        "        date = item.find('div', class_='date').get_text(strip=True) #在div下解析出date\n",
        "        article_url = item.find('a').get('href') #在標籤a中取出href(網址)\n",
        "\n",
        "    # 將資料存儲到字典中\n",
        "        temp_data = {\"Title\": title,\n",
        "            \"Author\": author,\n",
        "            \"Date\": date,\n",
        "            \"Article URL\": article_url}\n",
        "        data.append(temp_data)\n",
        "\n",
        "        print(f\"----- Article {index} -----\")\n",
        "        print(f\"Title: {title}\")\n",
        "        print(f\"Author: {author}\")\n",
        "        print(f\"Date: {date}\")\n",
        "        print(f\"Article URL: {article_url}\")\n",
        "        index+=1\n",
        "    except:\n",
        "      continue\n",
        "#將字典內的資料寫入csv file\n",
        "with open('/content/drive/MyDrive/112-2_LATIA/requests_ptt.csv','wt',encoding='utf-8') as csv:\n",
        "\tprint(data,file=csv)\n",
        "print(data)"
      ]
    }
  ],
  "metadata": {
    "colab": {
      "provenance": []
    },
    "kernelspec": {
      "display_name": "Python 3",
      "name": "python3"
    },
    "language_info": {
      "name": "python"
    }
  },
  "nbformat": 4,
  "nbformat_minor": 0
}
